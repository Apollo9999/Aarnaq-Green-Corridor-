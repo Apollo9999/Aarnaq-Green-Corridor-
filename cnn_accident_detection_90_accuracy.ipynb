{
  "cells": [
    {
      "cell_type": "markdown",
      "metadata": {
        "id": "view-in-github",
        "colab_type": "text"
      },
      "source": [
        "<a href=\"https://colab.research.google.com/github/Apollo9999/Traffic-Video-Analysis/blob/main/cnn_accident_detection_90_accuracy.ipynb\" target=\"_parent\"><img src=\"https://colab.research.google.com/assets/colab-badge.svg\" alt=\"Open In Colab\"/></a>"
      ]
    },
    {
      "cell_type": "code",
      "source": [
        "!pip install opendatasets \n",
        "!pip install matplotlib-venn\n",
        "!apt-get -qq install -y libfluidsynth1\n",
        "# https://pypi.python.org/pypi/libarchive\n",
        "!apt-get -qq install -y libarchive-dev && pip install -U libarchive\n",
        "import libarchive\n",
        "# https://pypi.python.org/pypi/pydot\n",
        "!apt-get -qq install -y graphviz && pip install pydot\n",
        "import pydot\n",
        "!pip install cartopy\n",
        "import cartopy"
      ],
      "metadata": {
        "colab": {
          "base_uri": "https://localhost:8080/"
        },
        "id": "qQUgb-FLm1Wx",
        "outputId": "394ec695-115e-4f96-896c-29aad77f5588"
      },
      "id": "qQUgb-FLm1Wx",
      "execution_count": 5,
      "outputs": [
        {
          "output_type": "stream",
          "name": "stdout",
          "text": [
            "Looking in indexes: https://pypi.org/simple, https://us-python.pkg.dev/colab-wheels/public/simple/\n",
            "Collecting opendatasets\n",
            "  Downloading opendatasets-0.1.22-py3-none-any.whl (15 kB)\n",
            "Requirement already satisfied: click in /usr/local/lib/python3.9/dist-packages (from opendatasets) (8.1.3)\n",
            "Requirement already satisfied: tqdm in /usr/local/lib/python3.9/dist-packages (from opendatasets) (4.65.0)\n",
            "Requirement already satisfied: kaggle in /usr/local/lib/python3.9/dist-packages (from opendatasets) (1.5.13)\n",
            "Requirement already satisfied: requests in /usr/local/lib/python3.9/dist-packages (from kaggle->opendatasets) (2.27.1)\n",
            "Requirement already satisfied: python-dateutil in /usr/local/lib/python3.9/dist-packages (from kaggle->opendatasets) (2.8.2)\n",
            "Requirement already satisfied: python-slugify in /usr/local/lib/python3.9/dist-packages (from kaggle->opendatasets) (8.0.1)\n",
            "Requirement already satisfied: certifi in /usr/local/lib/python3.9/dist-packages (from kaggle->opendatasets) (2022.12.7)\n",
            "Requirement already satisfied: urllib3 in /usr/local/lib/python3.9/dist-packages (from kaggle->opendatasets) (1.26.15)\n",
            "Requirement already satisfied: six>=1.10 in /usr/local/lib/python3.9/dist-packages (from kaggle->opendatasets) (1.16.0)\n",
            "Requirement already satisfied: text-unidecode>=1.3 in /usr/local/lib/python3.9/dist-packages (from python-slugify->kaggle->opendatasets) (1.3)\n",
            "Requirement already satisfied: idna<4,>=2.5 in /usr/local/lib/python3.9/dist-packages (from requests->kaggle->opendatasets) (3.4)\n",
            "Requirement already satisfied: charset-normalizer~=2.0.0 in /usr/local/lib/python3.9/dist-packages (from requests->kaggle->opendatasets) (2.0.12)\n",
            "Installing collected packages: opendatasets\n",
            "Successfully installed opendatasets-0.1.22\n",
            "Looking in indexes: https://pypi.org/simple, https://us-python.pkg.dev/colab-wheels/public/simple/\n",
            "Requirement already satisfied: matplotlib-venn in /usr/local/lib/python3.9/dist-packages (0.11.9)\n",
            "Requirement already satisfied: matplotlib in /usr/local/lib/python3.9/dist-packages (from matplotlib-venn) (3.7.1)\n",
            "Requirement already satisfied: scipy in /usr/local/lib/python3.9/dist-packages (from matplotlib-venn) (1.10.1)\n",
            "Requirement already satisfied: numpy in /usr/local/lib/python3.9/dist-packages (from matplotlib-venn) (1.22.4)\n",
            "Requirement already satisfied: importlib-resources>=3.2.0 in /usr/local/lib/python3.9/dist-packages (from matplotlib->matplotlib-venn) (5.12.0)\n",
            "Requirement already satisfied: fonttools>=4.22.0 in /usr/local/lib/python3.9/dist-packages (from matplotlib->matplotlib-venn) (4.39.3)\n",
            "Requirement already satisfied: pillow>=6.2.0 in /usr/local/lib/python3.9/dist-packages (from matplotlib->matplotlib-venn) (8.4.0)\n",
            "Requirement already satisfied: cycler>=0.10 in /usr/local/lib/python3.9/dist-packages (from matplotlib->matplotlib-venn) (0.11.0)\n",
            "Requirement already satisfied: python-dateutil>=2.7 in /usr/local/lib/python3.9/dist-packages (from matplotlib->matplotlib-venn) (2.8.2)\n",
            "Requirement already satisfied: pyparsing>=2.3.1 in /usr/local/lib/python3.9/dist-packages (from matplotlib->matplotlib-venn) (3.0.9)\n",
            "Requirement already satisfied: kiwisolver>=1.0.1 in /usr/local/lib/python3.9/dist-packages (from matplotlib->matplotlib-venn) (1.4.4)\n",
            "Requirement already satisfied: contourpy>=1.0.1 in /usr/local/lib/python3.9/dist-packages (from matplotlib->matplotlib-venn) (1.0.7)\n",
            "Requirement already satisfied: packaging>=20.0 in /usr/local/lib/python3.9/dist-packages (from matplotlib->matplotlib-venn) (23.1)\n",
            "Requirement already satisfied: zipp>=3.1.0 in /usr/local/lib/python3.9/dist-packages (from importlib-resources>=3.2.0->matplotlib->matplotlib-venn) (3.15.0)\n",
            "Requirement already satisfied: six>=1.5 in /usr/local/lib/python3.9/dist-packages (from python-dateutil>=2.7->matplotlib->matplotlib-venn) (1.16.0)\n",
            "E: Package 'libfluidsynth1' has no installation candidate\n",
            "Selecting previously unselected package libarchive-dev:amd64.\n",
            "(Reading database ... 122352 files and directories currently installed.)\n",
            "Preparing to unpack .../libarchive-dev_3.4.0-2ubuntu1.2_amd64.deb ...\n",
            "Unpacking libarchive-dev:amd64 (3.4.0-2ubuntu1.2) ...\n",
            "Setting up libarchive-dev:amd64 (3.4.0-2ubuntu1.2) ...\n",
            "Processing triggers for man-db (2.9.1-1) ...\n",
            "Looking in indexes: https://pypi.org/simple, https://us-python.pkg.dev/colab-wheels/public/simple/\n",
            "Collecting libarchive\n",
            "  Downloading libarchive-0.4.7.tar.gz (23 kB)\n",
            "  Preparing metadata (setup.py) ... \u001b[?25l\u001b[?25hdone\n",
            "Collecting nose\n",
            "  Downloading nose-1.3.7-py3-none-any.whl (154 kB)\n",
            "\u001b[2K     \u001b[90m━━━━━━━━━━━━━━━━━━━━━━━━━━━━━━━━━━━━━━━\u001b[0m \u001b[32m154.7/154.7 kB\u001b[0m \u001b[31m6.2 MB/s\u001b[0m eta \u001b[36m0:00:00\u001b[0m\n",
            "\u001b[?25hBuilding wheels for collected packages: libarchive\n",
            "  Building wheel for libarchive (setup.py) ... \u001b[?25l\u001b[?25hdone\n",
            "  Created wheel for libarchive: filename=libarchive-0.4.7-py3-none-any.whl size=31644 sha256=17740fa2052f92e2766e616b49c05d2f4f874d24c1255017a792f2eb06da7d35\n",
            "  Stored in directory: /root/.cache/pip/wheels/c9/a5/cc/cb20f1314d4cdec0001fd72baa1efe93e1542a81bdea2fc639\n",
            "Successfully built libarchive\n",
            "Installing collected packages: nose, libarchive\n",
            "Successfully installed libarchive-0.4.7 nose-1.3.7\n",
            "Looking in indexes: https://pypi.org/simple, https://us-python.pkg.dev/colab-wheels/public/simple/\n",
            "Requirement already satisfied: pydot in /usr/local/lib/python3.9/dist-packages (1.4.2)\n",
            "Requirement already satisfied: pyparsing>=2.1.4 in /usr/local/lib/python3.9/dist-packages (from pydot) (3.0.9)\n",
            "Looking in indexes: https://pypi.org/simple, https://us-python.pkg.dev/colab-wheels/public/simple/\n",
            "Collecting cartopy\n",
            "  Downloading Cartopy-0.21.1.tar.gz (10.9 MB)\n",
            "\u001b[2K     \u001b[90m━━━━━━━━━━━━━━━━━━━━━━━━━━━━━━━━━━━━━━━━\u001b[0m \u001b[32m10.9/10.9 MB\u001b[0m \u001b[31m78.0 MB/s\u001b[0m eta \u001b[36m0:00:00\u001b[0m\n",
            "\u001b[?25h  Installing build dependencies ... \u001b[?25l\u001b[?25hdone\n",
            "  Getting requirements to build wheel ... \u001b[?25l\u001b[?25hdone\n",
            "  Preparing metadata (pyproject.toml) ... \u001b[?25l\u001b[?25hdone\n",
            "Collecting pyshp>=2.1\n",
            "  Downloading pyshp-2.3.1-py2.py3-none-any.whl (46 kB)\n",
            "\u001b[2K     \u001b[90m━━━━━━━━━━━━━━━━━━━━━━━━━━━━━━━━━━━━━━━\u001b[0m \u001b[32m46.5/46.5 kB\u001b[0m \u001b[31m557.7 kB/s\u001b[0m eta \u001b[36m0:00:00\u001b[0m\n",
            "\u001b[?25hRequirement already satisfied: matplotlib>=3.1 in /usr/local/lib/python3.9/dist-packages (from cartopy) (3.7.1)\n",
            "Requirement already satisfied: numpy>=1.18 in /usr/local/lib/python3.9/dist-packages (from cartopy) (1.22.4)\n",
            "Collecting pyproj>=3.0.0\n",
            "  Downloading pyproj-3.5.0-cp39-cp39-manylinux_2_17_x86_64.manylinux2014_x86_64.whl (7.8 MB)\n",
            "\u001b[2K     \u001b[90m━━━━━━━━━━━━━━━━━━━━━━━━━━━━━━━━━━━━━━━━\u001b[0m \u001b[32m7.8/7.8 MB\u001b[0m \u001b[31m92.9 MB/s\u001b[0m eta \u001b[36m0:00:00\u001b[0m\n",
            "\u001b[?25hRequirement already satisfied: shapely>=1.6.4 in /usr/local/lib/python3.9/dist-packages (from cartopy) (2.0.1)\n",
            "Requirement already satisfied: python-dateutil>=2.7 in /usr/local/lib/python3.9/dist-packages (from matplotlib>=3.1->cartopy) (2.8.2)\n",
            "Requirement already satisfied: packaging>=20.0 in /usr/local/lib/python3.9/dist-packages (from matplotlib>=3.1->cartopy) (23.1)\n",
            "Requirement already satisfied: kiwisolver>=1.0.1 in /usr/local/lib/python3.9/dist-packages (from matplotlib>=3.1->cartopy) (1.4.4)\n",
            "Requirement already satisfied: cycler>=0.10 in /usr/local/lib/python3.9/dist-packages (from matplotlib>=3.1->cartopy) (0.11.0)\n",
            "Requirement already satisfied: contourpy>=1.0.1 in /usr/local/lib/python3.9/dist-packages (from matplotlib>=3.1->cartopy) (1.0.7)\n",
            "Requirement already satisfied: pyparsing>=2.3.1 in /usr/local/lib/python3.9/dist-packages (from matplotlib>=3.1->cartopy) (3.0.9)\n",
            "Requirement already satisfied: pillow>=6.2.0 in /usr/local/lib/python3.9/dist-packages (from matplotlib>=3.1->cartopy) (8.4.0)\n",
            "Requirement already satisfied: fonttools>=4.22.0 in /usr/local/lib/python3.9/dist-packages (from matplotlib>=3.1->cartopy) (4.39.3)\n",
            "Requirement already satisfied: importlib-resources>=3.2.0 in /usr/local/lib/python3.9/dist-packages (from matplotlib>=3.1->cartopy) (5.12.0)\n",
            "Requirement already satisfied: certifi in /usr/local/lib/python3.9/dist-packages (from pyproj>=3.0.0->cartopy) (2022.12.7)\n",
            "Requirement already satisfied: zipp>=3.1.0 in /usr/local/lib/python3.9/dist-packages (from importlib-resources>=3.2.0->matplotlib>=3.1->cartopy) (3.15.0)\n",
            "Requirement already satisfied: six>=1.5 in /usr/local/lib/python3.9/dist-packages (from python-dateutil>=2.7->matplotlib>=3.1->cartopy) (1.16.0)\n",
            "Building wheels for collected packages: cartopy\n",
            "  Building wheel for cartopy (pyproject.toml) ... \u001b[?25l\u001b[?25hdone\n",
            "  Created wheel for cartopy: filename=Cartopy-0.21.1-cp39-cp39-linux_x86_64.whl size=11113641 sha256=275fb6d0f4bed23a20c57b3822f81f1215ccae55d43d73a8e1b44ab3b375c276\n",
            "  Stored in directory: /root/.cache/pip/wheels/74/b9/f5/2c94acd7cd21480e6cf63169144d7aac3e8d9cf638225ed578\n",
            "Successfully built cartopy\n",
            "Installing collected packages: pyshp, pyproj, cartopy\n",
            "Successfully installed cartopy-0.21.1 pyproj-3.5.0 pyshp-2.3.1\n"
          ]
        }
      ]
    },
    {
      "cell_type": "code",
      "source": [],
      "metadata": {
        "id": "MZ9Q2QsETT3U"
      },
      "id": "MZ9Q2QsETT3U",
      "execution_count": null,
      "outputs": []
    },
    {
      "cell_type": "code",
      "source": [
        "import opendatasets as op\n",
        "op.download(\"https://www.kaggle.com/datasets/ckay16/accident-detection-from-cctv-footage?select=data\")"
      ],
      "metadata": {
        "colab": {
          "base_uri": "https://localhost:8080/"
        },
        "id": "jG3uuyoXm3pB",
        "outputId": "96e468e9-b4cd-46fc-a4d5-f41f0513dd99"
      },
      "id": "jG3uuyoXm3pB",
      "execution_count": 6,
      "outputs": [
        {
          "output_type": "stream",
          "name": "stdout",
          "text": [
            "Please provide your Kaggle credentials to download this dataset. Learn more: http://bit.ly/kaggle-creds\n",
            "Your Kaggle username: kiran637399\n",
            "Your Kaggle Key: ··········\n",
            "Downloading accident-detection-from-cctv-footage.zip to ./accident-detection-from-cctv-footage\n"
          ]
        },
        {
          "output_type": "stream",
          "name": "stderr",
          "text": [
            "100%|██████████| 249M/249M [00:03<00:00, 73.3MB/s]\n"
          ]
        },
        {
          "output_type": "stream",
          "name": "stdout",
          "text": [
            "\n"
          ]
        }
      ]
    },
    {
      "cell_type": "code",
      "execution_count": 8,
      "id": "580806af",
      "metadata": {
        "_cell_guid": "b1076dfc-b9ad-4769-8c92-a6c4dae69d19",
        "_uuid": "8f2839f25d086af736a60e9eeb907d3b93b6e0e5",
        "execution": {
          "iopub.execute_input": "2023-02-16T15:06:13.710543Z",
          "iopub.status.busy": "2023-02-16T15:06:13.710095Z",
          "iopub.status.idle": "2023-02-16T15:06:19.774105Z",
          "shell.execute_reply": "2023-02-16T15:06:19.773137Z"
        },
        "papermill": {
          "duration": 6.074559,
          "end_time": "2023-02-16T15:06:19.776737",
          "exception": false,
          "start_time": "2023-02-16T15:06:13.702178",
          "status": "completed"
        },
        "tags": [],
        "id": "580806af"
      },
      "outputs": [],
      "source": [
        "# This Python 3 environment comes with many helpful analytics libraries installed\n",
        "# It is defined by the kaggle/python Docker image: https://github.com/kaggle/docker-python\n",
        "# For example, here's several helpful packages to load\n",
        "import cv2\n",
        "import numpy as np # linear algebra\n",
        "import pandas as pd # data processing, CSV file I/O (e.g. pd.read_csv)\n",
        "import matplotlib.pyplot as plt\n",
        "import tensorflow as tf\n",
        "import pathlib\n",
        "import os"
      ]
    },
    {
      "cell_type": "markdown",
      "id": "62b42d44",
      "metadata": {
        "papermill": {
          "duration": 0.005655,
          "end_time": "2023-02-16T15:06:19.789242",
          "exception": false,
          "start_time": "2023-02-16T15:06:19.783587",
          "status": "completed"
        },
        "tags": [],
        "id": "62b42d44"
      },
      "source": [
        "# Setting up our Data  \n",
        "Before we begin with creating and training our model, we will first set the size of the batches for our training, as well as the image height and width to set for our model"
      ]
    },
    {
      "cell_type": "code",
      "execution_count": 9,
      "id": "1d428c1e",
      "metadata": {
        "execution": {
          "iopub.execute_input": "2023-02-16T15:06:19.801473Z",
          "iopub.status.busy": "2023-02-16T15:06:19.800411Z",
          "iopub.status.idle": "2023-02-16T15:06:19.805078Z",
          "shell.execute_reply": "2023-02-16T15:06:19.804091Z"
        },
        "papermill": {
          "duration": 0.012635,
          "end_time": "2023-02-16T15:06:19.806993",
          "exception": false,
          "start_time": "2023-02-16T15:06:19.794358",
          "status": "completed"
        },
        "tags": [],
        "id": "1d428c1e"
      },
      "outputs": [],
      "source": [
        "batch_size = 32\n",
        "img_height = 48\n",
        "img_width = 48"
      ]
    },
    {
      "cell_type": "markdown",
      "id": "5826553b",
      "metadata": {
        "papermill": {
          "duration": 0.004971,
          "end_time": "2023-02-16T15:06:19.817020",
          "exception": false,
          "start_time": "2023-02-16T15:06:19.812049",
          "status": "completed"
        },
        "tags": [],
        "id": "5826553b"
      },
      "source": [
        "The dataset that we are using has 3 different folders, and each of these have 2 folders within them having a folder for accident images and non accident images. Do look and scroll through them to verify and see the structure.  \n",
        "In order to get our:  \n",
        "1. train,\n",
        "2. test\n",
        "3. and validation split,  \n",
        "\n",
        "we will use keras's inbuilt *image_dataset_from_directory()* function which is able to generate a tf dataset containing the images as well as their corresponding classes from the folder that we pass into the parameter."
      ]
    },
    {
      "cell_type": "code",
      "execution_count": 15,
      "id": "f43f73d0",
      "metadata": {
        "execution": {
          "iopub.execute_input": "2023-02-16T15:06:19.828821Z",
          "iopub.status.busy": "2023-02-16T15:06:19.828012Z",
          "iopub.status.idle": "2023-02-16T15:06:22.568144Z",
          "shell.execute_reply": "2023-02-16T15:06:22.566710Z"
        },
        "papermill": {
          "duration": 2.748783,
          "end_time": "2023-02-16T15:06:22.570938",
          "exception": false,
          "start_time": "2023-02-16T15:06:19.822155",
          "status": "completed"
        },
        "tags": [],
        "colab": {
          "base_uri": "https://localhost:8080/"
        },
        "id": "f43f73d0",
        "outputId": "057a33ff-5b32-447f-9e49-ae2f3a7b0864"
      },
      "outputs": [
        {
          "output_type": "stream",
          "name": "stdout",
          "text": [
            "Found 791 images belonging to 2 classes.\n",
            "Found 100 images belonging to 2 classes.\n",
            "Found 98 images belonging to 2 classes.\n"
          ]
        }
      ],
      "source": [
        "image_data_generator = tf.keras.preprocessing.image.ImageDataGenerator(\n",
        "    rescale = 1/255,\n",
        ")\n",
        "dataset_folder = \"accident-detection-from-cctv-footage/data\"\n",
        "training_ds = image_data_generator.flow_from_directory(\n",
        "    os.path.join(dataset_folder, 'train'),\n",
        "    seed=101,\n",
        "    target_size= (img_height, img_width),\n",
        "    batch_size= batch_size,\n",
        "    color_mode = 'grayscale'\n",
        "\n",
        ")\n",
        "\n",
        "testing_ds = image_data_generator.flow_from_directory(\n",
        "    os.path.join(dataset_folder, 'test'),\n",
        "    seed=101,\n",
        "    target_size= (img_height, img_width),\n",
        "    batch_size=batch_size,\n",
        "    color_mode = 'grayscale')\n",
        "\n",
        "validation_ds =  image_data_generator.flow_from_directory(\n",
        "    os.path.join(dataset_folder, 'val'),\n",
        "    seed=101,\n",
        "    target_size= (img_height, img_width),\n",
        "    batch_size=batch_size,\n",
        "    color_mode = 'grayscale')"
      ]
    },
    {
      "cell_type": "markdown",
      "id": "bf33a094",
      "metadata": {
        "papermill": {
          "duration": 0.005264,
          "end_time": "2023-02-16T15:06:22.582202",
          "exception": false,
          "start_time": "2023-02-16T15:06:22.576938",
          "status": "completed"
        },
        "tags": [],
        "id": "bf33a094"
      },
      "source": [
        "Notice the output reading the files as well as the classes it recognises!  \n",
        "Now, we'll set up a few performace parameters that will enhance runtime training of our model. I've learnt to use this from [this excellent notebook here](https://www.kaggle.com/code/vanvalkenberg/cnn-for-accident-detection-83-val-accuracy/notebook), so do check that out as well!"
      ]
    },
    {
      "cell_type": "code",
      "execution_count": null,
      "id": "e701b394",
      "metadata": {
        "execution": {
          "iopub.execute_input": "2023-02-16T15:06:22.595527Z",
          "iopub.status.busy": "2023-02-16T15:06:22.593963Z",
          "iopub.status.idle": "2023-02-16T15:06:22.601670Z",
          "shell.execute_reply": "2023-02-16T15:06:22.600755Z"
        },
        "papermill": {
          "duration": 0.015909,
          "end_time": "2023-02-16T15:06:22.603549",
          "exception": false,
          "start_time": "2023-02-16T15:06:22.587640",
          "status": "completed"
        },
        "tags": [],
        "id": "e701b394"
      },
      "outputs": [],
      "source": [
        "class_names = training_ds.class_indices"
      ]
    },
    {
      "cell_type": "markdown",
      "id": "f204a9f7",
      "metadata": {
        "papermill": {
          "duration": 0.005326,
          "end_time": "2023-02-16T15:06:22.614526",
          "exception": false,
          "start_time": "2023-02-16T15:06:22.609200",
          "status": "completed"
        },
        "tags": [],
        "id": "f204a9f7"
      },
      "source": [
        "# Defining our Pre-Trained Model  \n",
        "The next step is defining and creating our model. In order to increase accuracy and speed up training process, we'll go ahead and use a pre trained model for this task. Why you may ask?  This is because a pretrained convnet already has a very good idea of what features to look for in an image and can find them very effectively since it hs been trained on millions of images. So, if we can determine the presence of features all the rest of the model needs to do is determine which combination of features makes a specific image.  \n",
        "So all we've to do is:\n",
        "1. Define the base pretrained layer\n",
        "2. Add final few layers that are specific to our function and task to enhance ability in those categories\n",
        "3. Train our model!  \n",
        "Lets use Googles MobileNetV2 for this purpose...\n"
      ]
    },
    {
      "cell_type": "code",
      "execution_count": 16,
      "id": "f01cd45b",
      "metadata": {
        "execution": {
          "iopub.execute_input": "2023-02-16T15:06:22.626578Z",
          "iopub.status.busy": "2023-02-16T15:06:22.625766Z",
          "iopub.status.idle": "2023-02-16T15:06:23.838188Z",
          "shell.execute_reply": "2023-02-16T15:06:23.837223Z"
        },
        "papermill": {
          "duration": 1.220751,
          "end_time": "2023-02-16T15:06:23.840530",
          "exception": false,
          "start_time": "2023-02-16T15:06:22.619779",
          "status": "completed"
        },
        "tags": [],
        "colab": {
          "base_uri": "https://localhost:8080/"
        },
        "id": "f01cd45b",
        "outputId": "e9ac4289-16db-4f43-db28-aa472b322b6c"
      },
      "outputs": [
        {
          "output_type": "stream",
          "name": "stderr",
          "text": [
            "WARNING:tensorflow:`input_shape` is undefined or non-square, or `rows` is not in [96, 128, 160, 192, 224]. Weights for input shape (224, 224) will be loaded as the default.\n"
          ]
        }
      ],
      "source": [
        "img_shape = (img_height, img_width, 3)\n",
        "\n",
        "base_model = tf.keras.applications.MobileNetV2(input_shape=img_shape,\n",
        "                                               include_top=False,\n",
        "                                               weights='imagenet')"
      ]
    },
    {
      "cell_type": "code",
      "source": [
        "len(base_model.layers)"
      ],
      "metadata": {
        "colab": {
          "base_uri": "https://localhost:8080/"
        },
        "id": "Giu6fMvwnxlJ",
        "outputId": "8b1c87c1-23e6-4b50-b95a-9fb85d2bdecf"
      },
      "id": "Giu6fMvwnxlJ",
      "execution_count": 17,
      "outputs": [
        {
          "output_type": "execute_result",
          "data": {
            "text/plain": [
              "154"
            ]
          },
          "metadata": {},
          "execution_count": 17
        }
      ]
    },
    {
      "cell_type": "code",
      "source": [
        "for layer in base_model.layers[:130]:\n",
        "  layer.trainable = False\n",
        "for layer in base_model.layers[130:]:\n",
        "  layer.trainable = True"
      ],
      "metadata": {
        "id": "QQ-V1xIXn0q5"
      },
      "id": "QQ-V1xIXn0q5",
      "execution_count": 18,
      "outputs": []
    },
    {
      "cell_type": "markdown",
      "id": "f7f2ace6",
      "metadata": {
        "papermill": {
          "duration": 0.005352,
          "end_time": "2023-02-16T15:06:23.851609",
          "exception": false,
          "start_time": "2023-02-16T15:06:23.846257",
          "status": "completed"
        },
        "tags": [],
        "id": "f7f2ace6"
      },
      "source": [
        "Notice how we set trainable to false in order to make sure model won’t make any changes to the weights of any layers that are already frozen during training.  \n",
        "We also exclude the top of the model since we will perform classification on our own."
      ]
    },
    {
      "cell_type": "markdown",
      "id": "0394d8b2",
      "metadata": {
        "papermill": {
          "duration": 0.005312,
          "end_time": "2023-02-16T15:06:23.862324",
          "exception": false,
          "start_time": "2023-02-16T15:06:23.857012",
          "status": "completed"
        },
        "tags": [],
        "id": "0394d8b2"
      },
      "source": [
        "# Creating Final Model  \n",
        "We now go ahead and create our final model which consists of the base model, and 3 more layers for performing convolution. The 2d output of the convolution layer is flattened and fed to a dense output layer to perform the classification. "
      ]
    },
    {
      "cell_type": "code",
      "source": [
        "input_ = tf.keras.layers.Input(shape = (48, 48, 1))\n",
        "x = tf.keras.layers.Conv2D(32,3,  activation = 'relu', strides = 2)(input_)\n",
        "x = tf.keras.layers.Dropout(0.2)(x)\n",
        "x = tf.keras.layers.Conv2D(64,3,  activation = 'relu', strides = 2)(x)\n",
        "x = tf.keras.layers.Dropout(0.2)(x)\n",
        "x = tf.keras.layers.Conv2D(128,3,  activation = 'relu', strides = 2)(x)\n",
        "x = tf.keras.layers.Dropout(0.2)(x)\n",
        "x = tf.keras.layers.Flatten()(x)\n",
        "x = tf.keras.layers.Dense(64, activation = \"elu\")(x)\n",
        "x = tf.keras.layers.Dropout(0.5)(x)\n",
        "x = tf.keras.layers.Dense(32, activation = \"elu\")(x)\n",
        "x = tf.keras.layers.Dropout(0.6)(x)\n",
        "output = tf.keras.layers.Dense(2, activation= 'softmax')(x)\n",
        "m = tf.keras.models.Model(\n",
        "    inputs = input_, \n",
        "    outputs = output\n",
        ")\n",
        "m.summary()"
      ],
      "metadata": {
        "colab": {
          "base_uri": "https://localhost:8080/"
        },
        "id": "Ikfe2XlEoAuh",
        "outputId": "0c73a5c9-9cd8-4760-938f-9666773cbd3d"
      },
      "id": "Ikfe2XlEoAuh",
      "execution_count": 19,
      "outputs": [
        {
          "output_type": "stream",
          "name": "stdout",
          "text": [
            "Model: \"model_1\"\n",
            "_________________________________________________________________\n",
            " Layer (type)                Output Shape              Param #   \n",
            "=================================================================\n",
            " input_4 (InputLayer)        [(None, 48, 48, 1)]       0         \n",
            "                                                                 \n",
            " conv2d_3 (Conv2D)           (None, 23, 23, 32)        320       \n",
            "                                                                 \n",
            " dropout_5 (Dropout)         (None, 23, 23, 32)        0         \n",
            "                                                                 \n",
            " conv2d_4 (Conv2D)           (None, 11, 11, 64)        18496     \n",
            "                                                                 \n",
            " dropout_6 (Dropout)         (None, 11, 11, 64)        0         \n",
            "                                                                 \n",
            " conv2d_5 (Conv2D)           (None, 5, 5, 128)         73856     \n",
            "                                                                 \n",
            " dropout_7 (Dropout)         (None, 5, 5, 128)         0         \n",
            "                                                                 \n",
            " flatten_1 (Flatten)         (None, 3200)              0         \n",
            "                                                                 \n",
            " dense_3 (Dense)             (None, 64)                204864    \n",
            "                                                                 \n",
            " dropout_8 (Dropout)         (None, 64)                0         \n",
            "                                                                 \n",
            " dense_4 (Dense)             (None, 32)                2080      \n",
            "                                                                 \n",
            " dropout_9 (Dropout)         (None, 32)                0         \n",
            "                                                                 \n",
            " dense_5 (Dense)             (None, 2)                 66        \n",
            "                                                                 \n",
            "=================================================================\n",
            "Total params: 299,682\n",
            "Trainable params: 299,682\n",
            "Non-trainable params: 0\n",
            "_________________________________________________________________\n"
          ]
        }
      ]
    },
    {
      "cell_type": "code",
      "execution_count": 20,
      "id": "9598e1a2",
      "metadata": {
        "execution": {
          "iopub.execute_input": "2023-02-16T15:06:24.276325Z",
          "iopub.status.busy": "2023-02-16T15:06:24.276037Z",
          "iopub.status.idle": "2023-02-16T15:06:24.290355Z",
          "shell.execute_reply": "2023-02-16T15:06:24.289517Z"
        },
        "papermill": {
          "duration": 0.022799,
          "end_time": "2023-02-16T15:06:24.292351",
          "exception": false,
          "start_time": "2023-02-16T15:06:24.269552",
          "status": "completed"
        },
        "tags": [],
        "id": "9598e1a2"
      },
      "outputs": [],
      "source": [
        "m.compile(optimizer= tf.keras.optimizers.Adam(learning_rate = 0.001),loss='binary_crossentropy', metrics=['accuracy'])"
      ]
    },
    {
      "cell_type": "markdown",
      "id": "5e084b2c",
      "metadata": {
        "papermill": {
          "duration": 0.005245,
          "end_time": "2023-02-16T15:06:24.303173",
          "exception": false,
          "start_time": "2023-02-16T15:06:24.297928",
          "status": "completed"
        },
        "tags": [],
        "id": "5e084b2c"
      },
      "source": [
        "We'll let our model run for 50 epochs, which seems like a decent enough number. Increasing the epochs should result in an increase in accuracy uptil a certain point only though..."
      ]
    },
    {
      "cell_type": "code",
      "execution_count": 21,
      "id": "ace615aa",
      "metadata": {
        "execution": {
          "iopub.execute_input": "2023-02-16T15:06:24.315199Z",
          "iopub.status.busy": "2023-02-16T15:06:24.314910Z",
          "iopub.status.idle": "2023-02-16T15:06:55.418684Z",
          "shell.execute_reply": "2023-02-16T15:06:55.417674Z"
        },
        "papermill": {
          "duration": 31.112721,
          "end_time": "2023-02-16T15:06:55.421310",
          "exception": false,
          "start_time": "2023-02-16T15:06:24.308589",
          "status": "completed"
        },
        "tags": [],
        "colab": {
          "base_uri": "https://localhost:8080/"
        },
        "id": "ace615aa",
        "outputId": "9617be0e-63d4-401f-b079-edc0db0b7a79"
      },
      "outputs": [
        {
          "output_type": "stream",
          "name": "stdout",
          "text": [
            "Epoch 1/160\n",
            "25/25 [==============================] - 20s 719ms/step - loss: 0.6970 - accuracy: 0.5297 - val_loss: 0.6873 - val_accuracy: 0.5306 - lr: 0.0010\n",
            "Epoch 2/160\n",
            "25/25 [==============================] - 16s 641ms/step - loss: 0.6903 - accuracy: 0.5398 - val_loss: 0.6867 - val_accuracy: 0.5306 - lr: 0.0010\n",
            "Epoch 3/160\n",
            "25/25 [==============================] - 17s 689ms/step - loss: 0.6882 - accuracy: 0.5550 - val_loss: 0.6792 - val_accuracy: 0.5510 - lr: 0.0010\n",
            "Epoch 4/160\n",
            "25/25 [==============================] - 16s 644ms/step - loss: 0.6856 - accuracy: 0.5702 - val_loss: 0.6737 - val_accuracy: 0.5714 - lr: 0.0010\n",
            "Epoch 5/160\n",
            "25/25 [==============================] - 17s 675ms/step - loss: 0.6637 - accuracy: 0.5917 - val_loss: 0.6258 - val_accuracy: 0.6531 - lr: 0.0010\n",
            "Epoch 6/160\n",
            "25/25 [==============================] - 17s 680ms/step - loss: 0.6240 - accuracy: 0.6561 - val_loss: 0.5776 - val_accuracy: 0.6735 - lr: 0.0010\n",
            "Epoch 7/160\n",
            "25/25 [==============================] - 16s 640ms/step - loss: 0.6048 - accuracy: 0.6941 - val_loss: 0.5562 - val_accuracy: 0.7041 - lr: 0.0010\n",
            "Epoch 8/160\n",
            "25/25 [==============================] - 16s 645ms/step - loss: 0.5821 - accuracy: 0.7092 - val_loss: 0.5516 - val_accuracy: 0.7245 - lr: 0.0010\n",
            "Epoch 9/160\n",
            "25/25 [==============================] - 17s 678ms/step - loss: 0.5501 - accuracy: 0.7472 - val_loss: 0.5030 - val_accuracy: 0.7755 - lr: 0.0010\n",
            "Epoch 10/160\n",
            "25/25 [==============================] - 16s 642ms/step - loss: 0.4872 - accuracy: 0.7699 - val_loss: 0.3988 - val_accuracy: 0.8265 - lr: 0.0010\n",
            "Epoch 11/160\n",
            "25/25 [==============================] - 16s 648ms/step - loss: 0.4393 - accuracy: 0.8078 - val_loss: 0.4065 - val_accuracy: 0.8163 - lr: 0.0010\n",
            "Epoch 12/160\n",
            "25/25 [==============================] - 17s 675ms/step - loss: 0.4385 - accuracy: 0.8078 - val_loss: 0.3430 - val_accuracy: 0.8367 - lr: 0.0010\n",
            "Epoch 13/160\n",
            "25/25 [==============================] - 17s 675ms/step - loss: 0.3558 - accuracy: 0.8432 - val_loss: 0.3254 - val_accuracy: 0.8571 - lr: 0.0010\n",
            "Epoch 14/160\n",
            "25/25 [==============================] - 16s 640ms/step - loss: 0.2936 - accuracy: 0.8938 - val_loss: 0.3095 - val_accuracy: 0.8878 - lr: 0.0010\n",
            "Epoch 15/160\n",
            "25/25 [==============================] - 17s 674ms/step - loss: 0.2841 - accuracy: 0.8761 - val_loss: 0.3087 - val_accuracy: 0.8776 - lr: 0.0010\n",
            "Epoch 16/160\n",
            "25/25 [==============================] - 16s 644ms/step - loss: 0.2778 - accuracy: 0.8925 - val_loss: 0.2514 - val_accuracy: 0.8673 - lr: 0.0010\n",
            "Epoch 17/160\n",
            "25/25 [==============================] - 17s 676ms/step - loss: 0.2204 - accuracy: 0.9279 - val_loss: 0.2666 - val_accuracy: 0.8776 - lr: 0.0010\n",
            "Epoch 18/160\n",
            "25/25 [==============================] - 16s 642ms/step - loss: 0.1862 - accuracy: 0.9292 - val_loss: 0.2703 - val_accuracy: 0.8673 - lr: 0.0010\n",
            "Epoch 19/160\n",
            "25/25 [==============================] - 17s 676ms/step - loss: 0.1897 - accuracy: 0.9267 - val_loss: 0.2307 - val_accuracy: 0.9082 - lr: 0.0010\n",
            "Epoch 20/160\n",
            "25/25 [==============================] - 16s 644ms/step - loss: 0.1714 - accuracy: 0.9418 - val_loss: 0.2755 - val_accuracy: 0.8673 - lr: 0.0010\n",
            "Epoch 21/160\n",
            "25/25 [==============================] - 17s 671ms/step - loss: 0.1821 - accuracy: 0.9469 - val_loss: 0.2442 - val_accuracy: 0.8878 - lr: 0.0010\n",
            "Epoch 22/160\n",
            "25/25 [==============================] - 16s 641ms/step - loss: 0.1660 - accuracy: 0.9482 - val_loss: 0.3012 - val_accuracy: 0.8878 - lr: 0.0010\n",
            "Epoch 23/160\n",
            "25/25 [==============================] - 16s 640ms/step - loss: 0.1252 - accuracy: 0.9621 - val_loss: 0.2513 - val_accuracy: 0.9286 - lr: 1.0000e-04\n"
          ]
        }
      ],
      "source": [
        "history = m.fit(training_ds, validation_data = validation_ds, epochs = 160,\n",
        "                batch_size = 64,\n",
        "                callbacks = [\n",
        "                    tf.keras.callbacks.EarlyStopping(monitor = 'val_loss', mode = 'min', patience = 4, \n",
        "                                                     restore_best_weights = True),\n",
        "                    tf.keras.callbacks.ReduceLROnPlateau(monitor = 'val_loss', mode = 'min', \n",
        "                                                         patience = 3, factor = 0.1)\n",
        "                ])"
      ]
    },
    {
      "cell_type": "code",
      "execution_count": 28,
      "id": "2245e5c7",
      "metadata": {
        "execution": {
          "iopub.execute_input": "2023-02-16T15:06:55.439362Z",
          "iopub.status.busy": "2023-02-16T15:06:55.439056Z",
          "iopub.status.idle": "2023-02-16T15:06:55.740002Z",
          "shell.execute_reply": "2023-02-16T15:06:55.738882Z"
        },
        "papermill": {
          "duration": 0.312376,
          "end_time": "2023-02-16T15:06:55.742258",
          "exception": false,
          "start_time": "2023-02-16T15:06:55.429882",
          "status": "completed"
        },
        "tags": [],
        "colab": {
          "base_uri": "https://localhost:8080/",
          "height": 447
        },
        "id": "2245e5c7",
        "outputId": "295b6835-4c78-4fbd-bff6-30c7b7726f62"
      },
      "outputs": [
        {
          "output_type": "execute_result",
          "data": {
            "text/plain": [
              "<matplotlib.legend.Legend at 0x7f005c43e070>"
            ]
          },
          "metadata": {},
          "execution_count": 28
        },
        {
          "output_type": "display_data",
          "data": {
            "text/plain": [
              "<Figure size 640x480 with 1 Axes>"
            ],
            "image/png": "[encoded data removed]"
          },
          "metadata": {}
        }
      ],
      "source": [
        "plt.plot(history.history['loss'], label = 'training loss')\n",
        "plt.plot(history.history['val_loss'], label = 'val_loss')\n",
        "plt.grid(True)\n",
        "plt.legend()"
      ]
    },
    {
      "cell_type": "code",
      "execution_count": 29,
      "id": "6361b949",
      "metadata": {
        "execution": {
          "iopub.execute_input": "2023-02-16T15:06:55.762395Z",
          "iopub.status.busy": "2023-02-16T15:06:55.760898Z",
          "iopub.status.idle": "2023-02-16T15:06:56.014335Z",
          "shell.execute_reply": "2023-02-16T15:06:56.013324Z"
        },
        "papermill": {
          "duration": 0.265296,
          "end_time": "2023-02-16T15:06:56.016599",
          "exception": false,
          "start_time": "2023-02-16T15:06:55.751303",
          "status": "completed"
        },
        "tags": [],
        "colab": {
          "base_uri": "https://localhost:8080/",
          "height": 447
        },
        "id": "6361b949",
        "outputId": "dc6102f8-61d9-4de8-ab96-46bca61e566c"
      },
      "outputs": [
        {
          "output_type": "execute_result",
          "data": {
            "text/plain": [
              "<matplotlib.legend.Legend at 0x7f005c6161f0>"
            ]
          },
          "metadata": {},
          "execution_count": 29
        },
        {
          "output_type": "display_data",
          "data": {
            "text/plain": [
              "<Figure size 640x480 with 1 Axes>"
            ],
            "image/png": "[encoded data removed]"
          },
          "metadata": {}
        }
      ],
      "source": [
        "plt.plot(history.history['accuracy'], label = 'training accuracy')\n",
        "plt.plot(history.history['val_accuracy'], label = 'validation accuracy')\n",
        "plt.grid(True)\n",
        "plt.legend()"
      ]
    },
    {
      "cell_type": "code",
      "source": [
        "m.evaluate(training_ds)"
      ],
      "metadata": {
        "colab": {
          "base_uri": "https://localhost:8080/"
        },
        "id": "zlIHwovNuBKP",
        "outputId": "8cc85e98-a314-437d-b977-6bfa0bca34ee"
      },
      "id": "zlIHwovNuBKP",
      "execution_count": 24,
      "outputs": [
        {
          "output_type": "stream",
          "name": "stdout",
          "text": [
            "25/25 [==============================] - 14s 562ms/step - loss: 0.0964 - accuracy: 0.9709\n"
          ]
        },
        {
          "output_type": "execute_result",
          "data": {
            "text/plain": [
              "[0.09643526375293732, 0.9709228873252869]"
            ]
          },
          "metadata": {},
          "execution_count": 24
        }
      ]
    },
    {
      "cell_type": "code",
      "source": [
        "m.evaluate(validation_ds)"
      ],
      "metadata": {
        "colab": {
          "base_uri": "https://localhost:8080/"
        },
        "id": "KS5NpADGuGJI",
        "outputId": "e0d39380-076c-4d78-82c9-1cb8f61a0620"
      },
      "id": "KS5NpADGuGJI",
      "execution_count": 25,
      "outputs": [
        {
          "output_type": "stream",
          "name": "stdout",
          "text": [
            "4/4 [==============================] - 2s 389ms/step - loss: 0.2307 - accuracy: 0.9082\n"
          ]
        },
        {
          "output_type": "execute_result",
          "data": {
            "text/plain": [
              "[0.23074930906295776, 0.9081632494926453]"
            ]
          },
          "metadata": {},
          "execution_count": 25
        }
      ]
    },
    {
      "cell_type": "code",
      "source": [
        "m.evaluate(testing_ds)"
      ],
      "metadata": {
        "colab": {
          "base_uri": "https://localhost:8080/"
        },
        "id": "4ogWKcNFuLMS",
        "outputId": "dd4dfc01-cd99-4602-f8e5-de952be5022c"
      },
      "id": "4ogWKcNFuLMS",
      "execution_count": 26,
      "outputs": [
        {
          "output_type": "stream",
          "name": "stdout",
          "text": [
            "4/4 [==============================] - 2s 419ms/step - loss: 0.2875 - accuracy: 0.8600\n"
          ]
        },
        {
          "output_type": "execute_result",
          "data": {
            "text/plain": [
              "[0.2875371277332306, 0.8600000143051147]"
            ]
          },
          "metadata": {},
          "execution_count": 26
        }
      ]
    },
    {
      "cell_type": "markdown",
      "id": "46a519d9",
      "metadata": {
        "papermill": {
          "duration": 0.008997,
          "end_time": "2023-02-16T15:06:56.035150",
          "exception": false,
          "start_time": "2023-02-16T15:06:56.026153",
          "status": "completed"
        },
        "tags": [],
        "id": "46a519d9"
      },
      "source": [
        "The function below looks a bit complicated, but is a simple helper function which shows the image, the predicted class and the actual class for each image in the test dataset. Run it and have a look at how accurate the model seems and where it seems to be struggling."
      ]
    },
    {
      "cell_type": "code",
      "source": [
        "images, labels = testing_ds.next()"
      ],
      "metadata": {
        "id": "Pr4EkrnUU4av"
      },
      "id": "Pr4EkrnUU4av",
      "execution_count": null,
      "outputs": []
    },
    {
      "cell_type": "code",
      "source": [
        "images.shape"
      ],
      "metadata": {
        "id": "7kAbia8NVC9-"
      },
      "id": "7kAbia8NVC9-",
      "execution_count": null,
      "outputs": []
    },
    {
      "cell_type": "code",
      "source": [
        "y_pred = m.predict(images)"
      ],
      "metadata": {
        "id": "BH614kwgVLWX"
      },
      "id": "BH614kwgVLWX",
      "execution_count": null,
      "outputs": []
    },
    {
      "cell_type": "code",
      "source": [
        "labels = np.argmax(labels, axis = 1)"
      ],
      "metadata": {
        "id": "p-xIJMzbWhnP"
      },
      "id": "p-xIJMzbWhnP",
      "execution_count": null,
      "outputs": []
    },
    {
      "cell_type": "code",
      "source": [
        "class_names = list(class_names)"
      ],
      "metadata": {
        "id": "SxqvF7x9XCE_"
      },
      "id": "SxqvF7x9XCE_",
      "execution_count": null,
      "outputs": []
    },
    {
      "cell_type": "code",
      "source": [
        "y_pred = np.argmax(y_pred, axis = 1)"
      ],
      "metadata": {
        "id": "h3Z8LmhPXX8Y"
      },
      "id": "h3Z8LmhPXX8Y",
      "execution_count": null,
      "outputs": []
    },
    {
      "cell_type": "code",
      "execution_count": 27,
      "id": "4ba4a590",
      "metadata": {
        "execution": {
          "iopub.execute_input": "2023-02-16T15:06:56.055265Z",
          "iopub.status.busy": "2023-02-16T15:06:56.054289Z",
          "iopub.status.idle": "2023-02-16T15:07:03.341933Z",
          "shell.execute_reply": "2023-02-16T15:07:03.340584Z"
        },
        "papermill": {
          "duration": 7.345653,
          "end_time": "2023-02-16T15:07:03.389763",
          "exception": false,
          "start_time": "2023-02-16T15:06:56.044110",
          "status": "completed"
        },
        "tags": [],
        "colab": {
          "base_uri": "https://localhost:8080/",
          "height": 401
        },
        "id": "4ba4a590",
        "outputId": "2b05aa0f-9531-4e7b-afa0-6d0297658c33"
      },
      "outputs": [
        {
          "output_type": "error",
          "ename": "NameError",
          "evalue": "ignored",
          "traceback": [
            "\u001b[0;31m---------------------------------------------------------------------------\u001b[0m",
            "\u001b[0;31mNameError\u001b[0m                                 Traceback (most recent call last)",
            "\u001b[0;32m<ipython-input-27-58045d0d0b26>\u001b[0m in \u001b[0;36m<cell line: 2>\u001b[0;34m()\u001b[0m\n\u001b[1;32m      2\u001b[0m \u001b[0;32mfor\u001b[0m \u001b[0mi\u001b[0m \u001b[0;32min\u001b[0m \u001b[0mrange\u001b[0m\u001b[0;34m(\u001b[0m\u001b[0;36m16\u001b[0m\u001b[0;34m)\u001b[0m\u001b[0;34m:\u001b[0m\u001b[0;34m\u001b[0m\u001b[0;34m\u001b[0m\u001b[0m\n\u001b[1;32m      3\u001b[0m   \u001b[0mplt\u001b[0m\u001b[0;34m.\u001b[0m\u001b[0msubplot\u001b[0m\u001b[0;34m(\u001b[0m\u001b[0;36m4\u001b[0m\u001b[0;34m,\u001b[0m \u001b[0;36m4\u001b[0m\u001b[0;34m,\u001b[0m \u001b[0;34m(\u001b[0m\u001b[0mi\u001b[0m \u001b[0;34m+\u001b[0m \u001b[0;36m1\u001b[0m\u001b[0;34m)\u001b[0m\u001b[0;34m)\u001b[0m\u001b[0;34m\u001b[0m\u001b[0;34m\u001b[0m\u001b[0m\n\u001b[0;32m----> 4\u001b[0;31m   \u001b[0mplt\u001b[0m\u001b[0;34m.\u001b[0m\u001b[0mimshow\u001b[0m\u001b[0;34m(\u001b[0m\u001b[0mnp\u001b[0m\u001b[0;34m.\u001b[0m\u001b[0mreshape\u001b[0m\u001b[0;34m(\u001b[0m\u001b[0mimages\u001b[0m\u001b[0;34m[\u001b[0m\u001b[0mi\u001b[0m\u001b[0;34m]\u001b[0m\u001b[0;34m,\u001b[0m \u001b[0;34m(\u001b[0m\u001b[0;36m48\u001b[0m\u001b[0;34m,\u001b[0m \u001b[0;36m48\u001b[0m\u001b[0;34m)\u001b[0m\u001b[0;34m)\u001b[0m\u001b[0;34m,\u001b[0m \u001b[0mcmap\u001b[0m \u001b[0;34m=\u001b[0m \u001b[0;34m'gray'\u001b[0m\u001b[0;34m)\u001b[0m\u001b[0;34m\u001b[0m\u001b[0;34m\u001b[0m\u001b[0m\n\u001b[0m\u001b[1;32m      5\u001b[0m   \u001b[0mplt\u001b[0m\u001b[0;34m.\u001b[0m\u001b[0mtitle\u001b[0m\u001b[0;34m(\u001b[0m\u001b[0;34m'Pred: {} actl: {}'\u001b[0m\u001b[0;34m.\u001b[0m\u001b[0mformat\u001b[0m\u001b[0;34m(\u001b[0m\u001b[0mclass_names\u001b[0m\u001b[0;34m[\u001b[0m\u001b[0my_pred\u001b[0m\u001b[0;34m[\u001b[0m\u001b[0mi\u001b[0m\u001b[0;34m]\u001b[0m\u001b[0;34m]\u001b[0m\u001b[0;34m,\u001b[0m \u001b[0mclass_names\u001b[0m\u001b[0;34m[\u001b[0m\u001b[0mlabels\u001b[0m\u001b[0;34m[\u001b[0m\u001b[0mi\u001b[0m\u001b[0;34m]\u001b[0m\u001b[0;34m]\u001b[0m\u001b[0;34m)\u001b[0m\u001b[0;34m)\u001b[0m\u001b[0;34m\u001b[0m\u001b[0;34m\u001b[0m\u001b[0m\n\u001b[1;32m      6\u001b[0m \u001b[0mplt\u001b[0m\u001b[0;34m.\u001b[0m\u001b[0mlegend\u001b[0m\u001b[0;34m(\u001b[0m\u001b[0;34m)\u001b[0m\u001b[0;34m\u001b[0m\u001b[0;34m\u001b[0m\u001b[0m\n",
            "\u001b[0;31mNameError\u001b[0m: name 'images' is not defined"
          ]
        },
        {
          "output_type": "display_data",
          "data": {
            "text/plain": [
              "<Figure size 2000x700 with 1 Axes>"
            ],
            "image/png": "[encoded data removed]"
          },
          "metadata": {}
        }
      ],
      "source": [
        "plt.figure(figsize = (20, 7))\n",
        "for i in range(16):\n",
        "  plt.subplot(4, 4, (i + 1))\n",
        "  plt.imshow(np.reshape(images[i], (48, 48)), cmap = 'gray')\n",
        "  plt.title('Pred: {} actl: {}'.format(class_names[y_pred[i]], class_names[labels[i]]))\n",
        "plt.legend()"
      ]
    },
    {
      "cell_type": "markdown",
      "id": "ccc92dc4",
      "metadata": {
        "papermill": {
          "duration": 0.063118,
          "end_time": "2023-02-16T15:07:03.515775",
          "exception": false,
          "start_time": "2023-02-16T15:07:03.452657",
          "status": "completed"
        },
        "tags": [],
        "id": "ccc92dc4"
      },
      "source": [
        "We can go ahead and view the models layers through the plot_model function below provided by keras for an intuitive view."
      ]
    },
    {
      "cell_type": "code",
      "execution_count": null,
      "id": "59282d39",
      "metadata": {
        "execution": {
          "iopub.execute_input": "2023-02-16T15:07:03.636589Z",
          "iopub.status.busy": "2023-02-16T15:07:03.636083Z",
          "iopub.status.idle": "2023-02-16T15:07:04.266036Z",
          "shell.execute_reply": "2023-02-16T15:07:04.264878Z"
        },
        "papermill": {
          "duration": 0.694532,
          "end_time": "2023-02-16T15:07:04.268530",
          "exception": false,
          "start_time": "2023-02-16T15:07:03.573998",
          "status": "completed"
        },
        "tags": [],
        "id": "59282d39"
      },
      "outputs": [],
      "source": [
        "from keras.utils.vis_utils import plot_model\n",
        "plot_model(m, to_file='model_plot.png', show_shapes=True, show_layer_names=True)"
      ]
    },
    {
      "cell_type": "markdown",
      "id": "3ba94508",
      "metadata": {
        "papermill": {
          "duration": 0.05896,
          "end_time": "2023-02-16T15:07:04.390301",
          "exception": false,
          "start_time": "2023-02-16T15:07:04.331341",
          "status": "completed"
        },
        "tags": [],
        "id": "3ba94508"
      },
      "source": [
        "And thats all! We've successfully creating a model with an accuracy of around 90%. Notice that this can be further improved by performing image manipulation, performing pooling and training our model for a longer epoch or even adding more layers.. However, for our use case, this model we created is perfectly fine.  "
      ]
    },
    {
      "cell_type": "markdown",
      "id": "0d892464",
      "metadata": {
        "papermill": {
          "duration": 0.058428,
          "end_time": "2023-02-16T15:07:04.507706",
          "exception": false,
          "start_time": "2023-02-16T15:07:04.449278",
          "status": "completed"
        },
        "tags": [],
        "id": "0d892464"
      },
      "source": [
        "# Testing Model on Videos  \n",
        "In order to use our model on a video, which is our expected use case of a CCTV footage, we will have to use OpenCV in order get the individual frames.  \n",
        "Lets define a function which takes in each frame and converts it into a tensor and then predicts the output class."
      ]
    },
    {
      "cell_type": "code",
      "execution_count": null,
      "id": "9be1aff8",
      "metadata": {
        "execution": {
          "iopub.execute_input": "2023-02-16T15:07:04.636919Z",
          "iopub.status.busy": "2023-02-16T15:07:04.636294Z",
          "iopub.status.idle": "2023-02-16T15:07:04.644856Z",
          "shell.execute_reply": "2023-02-16T15:07:04.643875Z"
        },
        "papermill": {
          "duration": 0.080866,
          "end_time": "2023-02-16T15:07:04.647333",
          "exception": false,
          "start_time": "2023-02-16T15:07:04.566467",
          "status": "completed"
        },
        "tags": [],
        "id": "9be1aff8"
      },
      "outputs": [],
      "source": [
        "def predict_frame(img):\n",
        "    img_array = tf.keras.utils.img_to_array(img)\n",
        "    img_batch = np.expand_dims(img_array, axis=0)\n",
        "    prediction=(model.predict(img_batch) > 0.5).astype(\"int32\")\n",
        "    if(prediction[0][0]==1):\n",
        "        return(\"Accident Detected\")\n",
        "    else:\n",
        "        return(\"No Accident\")"
      ]
    },
    {
      "cell_type": "markdown",
      "id": "46862f09",
      "metadata": {
        "papermill": {
          "duration": 0.065155,
          "end_time": "2023-02-16T15:07:04.774978",
          "exception": false,
          "start_time": "2023-02-16T15:07:04.709823",
          "status": "completed"
        },
        "tags": [],
        "id": "46862f09"
      },
      "source": [
        "The following code below makes use of OpenCV. Firstly, we read the video in and grab every 20th frame(in order to reduce total computation for this demonstration) and then we can resize the image and run our function on it.  \n",
        "We'll store the label and the image in a list which we can easily access."
      ]
    },
    {
      "cell_type": "code",
      "execution_count": null,
      "id": "74805464",
      "metadata": {
        "execution": {
          "iopub.execute_input": "2023-02-16T15:07:04.908502Z",
          "iopub.status.busy": "2023-02-16T15:07:04.907938Z",
          "iopub.status.idle": "2023-02-16T15:07:12.293063Z",
          "shell.execute_reply": "2023-02-16T15:07:12.291630Z"
        },
        "papermill": {
          "duration": 7.455749,
          "end_time": "2023-02-16T15:07:12.297189",
          "exception": false,
          "start_time": "2023-02-16T15:07:04.841440",
          "status": "completed"
        },
        "tags": [],
        "id": "74805464"
      },
      "outputs": [],
      "source": [
        "import cv2\n",
        "image=[]\n",
        "label=[]\n",
        "\n",
        "c=1\n",
        "cap= cv2.VideoCapture('/kaggle/input/cctvfootagevideo/videoplayback (online-video-cutter.com).mp4')\n",
        "while True:\n",
        "    grabbed, frame = cap.read()\n",
        "    if c%30==0:\n",
        "        print(c)\n",
        "        resized_frame=tf.keras.preprocessing.image.smart_resize(frame, (img_height, img_width), interpolation='bilinear')\n",
        "        image.append(frame)\n",
        "        label.append(predict_frame(resized_frame))\n",
        "        if(len(image)==75):\n",
        "            break\n",
        "    c+=1\n",
        "\n",
        "cap.release()"
      ]
    },
    {
      "cell_type": "markdown",
      "id": "8da6f406",
      "metadata": {
        "papermill": {
          "duration": 0.101856,
          "end_time": "2023-02-16T15:07:12.527005",
          "exception": false,
          "start_time": "2023-02-16T15:07:12.425149",
          "status": "completed"
        },
        "tags": [],
        "id": "8da6f406"
      },
      "source": [
        "Lets see any random frame and see what the outcome is..."
      ]
    },
    {
      "cell_type": "code",
      "execution_count": null,
      "id": "f1bc14ab",
      "metadata": {
        "execution": {
          "iopub.execute_input": "2023-02-16T15:07:12.746028Z",
          "iopub.status.busy": "2023-02-16T15:07:12.745608Z",
          "iopub.status.idle": "2023-02-16T15:07:13.088964Z",
          "shell.execute_reply": "2023-02-16T15:07:13.087753Z"
        },
        "papermill": {
          "duration": 0.453763,
          "end_time": "2023-02-16T15:07:13.091287",
          "exception": false,
          "start_time": "2023-02-16T15:07:12.637524",
          "status": "completed"
        },
        "tags": [],
        "id": "f1bc14ab"
      },
      "outputs": [],
      "source": [
        "print(label[74])\n",
        "print(plt.imshow(image[74]))"
      ]
    },
    {
      "cell_type": "markdown",
      "id": "869b9e9f",
      "metadata": {
        "papermill": {
          "duration": 0.072807,
          "end_time": "2023-02-16T15:07:13.242790",
          "exception": false,
          "start_time": "2023-02-16T15:07:13.169983",
          "status": "completed"
        },
        "tags": [],
        "id": "869b9e9f"
      },
      "source": [
        "Looks about right! There seems to be an accident occuring in this frame. Our model generalizes well and can be used for practical applications."
      ]
    }
  ],
  "metadata": {
    "kernelspec": {
      "display_name": "Python 3",
      "language": "python",
      "name": "python3"
    },
    "language_info": {
      "codemirror_mode": {
        "name": "ipython",
        "version": 3
      },
      "file_extension": ".py",
      "mimetype": "text/x-python",
      "name": "python",
      "nbconvert_exporter": "python",
      "pygments_lexer": "ipython3",
      "version": "3.7.12"
    },
    "papermill": {
      "default_parameters": {},
      "duration": 70.242078,
      "end_time": "2023-02-16T15:07:16.634905",
      "environment_variables": {},
      "exception": null,
      "input_path": "__notebook__.ipynb",
      "output_path": "__notebook__.ipynb",
      "parameters": {},
      "start_time": "2023-02-16T15:06:06.392827",
      "version": "2.3.4"
    },
    "colab": {
      "provenance": [],
      "machine_shape": "hm",
      "include_colab_link": true
    },
    "gpuClass": "standard"
  },
  "nbformat": 4,
  "nbformat_minor": 5
}